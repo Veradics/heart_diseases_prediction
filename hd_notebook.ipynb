{
 "cells": [
  {
   "cell_type": "markdown",
   "id": "8a66625b",
   "metadata": {
    "toc": true
   },
   "source": [
    "<h1>Table of Contents<span class=\"tocSkip\"></span></h1>\n",
    "<div class=\"toc\"><ul class=\"toc-item\"><li><span><a href=\"#Community-Prediction-Competition-(kaggle)\" data-toc-modified-id=\"Community-Prediction-Competition-(kaggle)-1\"><span class=\"toc-item-num\">1&nbsp;&nbsp;</span>Community Prediction Competition (kaggle)</a></span><ul class=\"toc-item\"><li><span><a href=\"#Data-desription\" data-toc-modified-id=\"Data-desription-1.1\"><span class=\"toc-item-num\">1.1&nbsp;&nbsp;</span>Data desription</a></span></li><li><span><a href=\"#Preprocessing\" data-toc-modified-id=\"Preprocessing-1.2\"><span class=\"toc-item-num\">1.2&nbsp;&nbsp;</span>Preprocessing</a></span></li><li><span><a href=\"#Model-selection\" data-toc-modified-id=\"Model-selection-1.3\"><span class=\"toc-item-num\">1.3&nbsp;&nbsp;</span>Model selection</a></span></li><li><span><a href=\"#Prediction-test-data\" data-toc-modified-id=\"Prediction-test-data-1.4\"><span class=\"toc-item-num\">1.4&nbsp;&nbsp;</span>Prediction test data</a></span></li></ul></li></ul></div>"
   ]
  },
  {
   "cell_type": "markdown",
   "id": "f5784af8",
   "metadata": {},
   "source": [
    "# Heart diseases prediction\n",
    "## Community Prediction Competition (kaggle)\n",
    "\n",
    "**The purpose of this project** is heart disease risk prediction from patient lifestyle information. \\\n",
    "**The evaluation metric** for this competition is *ROC AUC score*."
   ]
  },
  {
   "cell_type": "code",
   "execution_count": 25,
   "id": "497c5f27",
   "metadata": {},
   "outputs": [],
   "source": [
    "import pandas as pd\n",
    "import numpy as np\n",
    "import matplotlib.pyplot as plt\n",
    "\n",
    "from sklearn.preprocessing import StandardScaler\n",
    "from sklearn.model_selection import GridSearchCV\n",
    "from sklearn.ensemble import RandomForestClassifier"
   ]
  },
  {
   "cell_type": "code",
   "execution_count": 2,
   "id": "41201ff1",
   "metadata": {},
   "outputs": [
    {
     "data": {
      "text/html": [
       "<div>\n",
       "<style scoped>\n",
       "    .dataframe tbody tr th:only-of-type {\n",
       "        vertical-align: middle;\n",
       "    }\n",
       "\n",
       "    .dataframe tbody tr th {\n",
       "        vertical-align: top;\n",
       "    }\n",
       "\n",
       "    .dataframe thead th {\n",
       "        text-align: right;\n",
       "    }\n",
       "</style>\n",
       "<table border=\"1\" class=\"dataframe\">\n",
       "  <thead>\n",
       "    <tr style=\"text-align: right;\">\n",
       "      <th></th>\n",
       "      <th>id</th>\n",
       "      <th>age</th>\n",
       "      <th>gender</th>\n",
       "      <th>height</th>\n",
       "      <th>weight</th>\n",
       "      <th>ap_hi</th>\n",
       "      <th>ap_lo</th>\n",
       "      <th>cholesterol</th>\n",
       "      <th>gluc</th>\n",
       "      <th>smoke</th>\n",
       "      <th>alco</th>\n",
       "      <th>active</th>\n",
       "      <th>cardio</th>\n",
       "    </tr>\n",
       "  </thead>\n",
       "  <tbody>\n",
       "    <tr>\n",
       "      <th>0</th>\n",
       "      <td>0</td>\n",
       "      <td>18393</td>\n",
       "      <td>2</td>\n",
       "      <td>168</td>\n",
       "      <td>62.0</td>\n",
       "      <td>110</td>\n",
       "      <td>80</td>\n",
       "      <td>1</td>\n",
       "      <td>1</td>\n",
       "      <td>0</td>\n",
       "      <td>0</td>\n",
       "      <td>1</td>\n",
       "      <td>0</td>\n",
       "    </tr>\n",
       "    <tr>\n",
       "      <th>1</th>\n",
       "      <td>1</td>\n",
       "      <td>20228</td>\n",
       "      <td>1</td>\n",
       "      <td>156</td>\n",
       "      <td>85.0</td>\n",
       "      <td>140</td>\n",
       "      <td>90</td>\n",
       "      <td>3</td>\n",
       "      <td>1</td>\n",
       "      <td>0</td>\n",
       "      <td>0</td>\n",
       "      <td>1</td>\n",
       "      <td>1</td>\n",
       "    </tr>\n",
       "    <tr>\n",
       "      <th>2</th>\n",
       "      <td>2</td>\n",
       "      <td>18857</td>\n",
       "      <td>1</td>\n",
       "      <td>165</td>\n",
       "      <td>64.0</td>\n",
       "      <td>130</td>\n",
       "      <td>70</td>\n",
       "      <td>3</td>\n",
       "      <td>1</td>\n",
       "      <td>0</td>\n",
       "      <td>0</td>\n",
       "      <td>0</td>\n",
       "      <td>1</td>\n",
       "    </tr>\n",
       "    <tr>\n",
       "      <th>3</th>\n",
       "      <td>3</td>\n",
       "      <td>17623</td>\n",
       "      <td>2</td>\n",
       "      <td>169</td>\n",
       "      <td>82.0</td>\n",
       "      <td>150</td>\n",
       "      <td>100</td>\n",
       "      <td>1</td>\n",
       "      <td>1</td>\n",
       "      <td>0</td>\n",
       "      <td>0</td>\n",
       "      <td>1</td>\n",
       "      <td>1</td>\n",
       "    </tr>\n",
       "    <tr>\n",
       "      <th>4</th>\n",
       "      <td>4</td>\n",
       "      <td>17474</td>\n",
       "      <td>1</td>\n",
       "      <td>156</td>\n",
       "      <td>56.0</td>\n",
       "      <td>100</td>\n",
       "      <td>60</td>\n",
       "      <td>1</td>\n",
       "      <td>1</td>\n",
       "      <td>0</td>\n",
       "      <td>0</td>\n",
       "      <td>0</td>\n",
       "      <td>0</td>\n",
       "    </tr>\n",
       "  </tbody>\n",
       "</table>\n",
       "</div>"
      ],
      "text/plain": [
       "   id    age  gender  height  weight  ap_hi  ap_lo  cholesterol  gluc  smoke  \\\n",
       "0   0  18393       2     168    62.0    110     80            1     1      0   \n",
       "1   1  20228       1     156    85.0    140     90            3     1      0   \n",
       "2   2  18857       1     165    64.0    130     70            3     1      0   \n",
       "3   3  17623       2     169    82.0    150    100            1     1      0   \n",
       "4   4  17474       1     156    56.0    100     60            1     1      0   \n",
       "\n",
       "   alco  active  cardio  \n",
       "0     0       1       0  \n",
       "1     0       1       1  \n",
       "2     0       0       1  \n",
       "3     0       1       1  \n",
       "4     0       0       0  "
      ]
     },
     "metadata": {},
     "output_type": "display_data"
    },
    {
     "data": {
      "text/html": [
       "<div>\n",
       "<style scoped>\n",
       "    .dataframe tbody tr th:only-of-type {\n",
       "        vertical-align: middle;\n",
       "    }\n",
       "\n",
       "    .dataframe tbody tr th {\n",
       "        vertical-align: top;\n",
       "    }\n",
       "\n",
       "    .dataframe thead th {\n",
       "        text-align: right;\n",
       "    }\n",
       "</style>\n",
       "<table border=\"1\" class=\"dataframe\">\n",
       "  <thead>\n",
       "    <tr style=\"text-align: right;\">\n",
       "      <th></th>\n",
       "      <th>id</th>\n",
       "      <th>age</th>\n",
       "      <th>gender</th>\n",
       "      <th>height</th>\n",
       "      <th>weight</th>\n",
       "      <th>ap_hi</th>\n",
       "      <th>ap_lo</th>\n",
       "      <th>cholesterol</th>\n",
       "      <th>gluc</th>\n",
       "      <th>smoke</th>\n",
       "      <th>alco</th>\n",
       "      <th>active</th>\n",
       "    </tr>\n",
       "  </thead>\n",
       "  <tbody>\n",
       "    <tr>\n",
       "      <th>0</th>\n",
       "      <td>5</td>\n",
       "      <td>18888</td>\n",
       "      <td>1</td>\n",
       "      <td>154</td>\n",
       "      <td>85.0</td>\n",
       "      <td>130</td>\n",
       "      <td>80</td>\n",
       "      <td>1</td>\n",
       "      <td>1</td>\n",
       "      <td>0</td>\n",
       "      <td>0</td>\n",
       "      <td>1</td>\n",
       "    </tr>\n",
       "    <tr>\n",
       "      <th>1</th>\n",
       "      <td>6</td>\n",
       "      <td>19042</td>\n",
       "      <td>2</td>\n",
       "      <td>170</td>\n",
       "      <td>69.0</td>\n",
       "      <td>130</td>\n",
       "      <td>90</td>\n",
       "      <td>1</td>\n",
       "      <td>1</td>\n",
       "      <td>0</td>\n",
       "      <td>0</td>\n",
       "      <td>1</td>\n",
       "    </tr>\n",
       "    <tr>\n",
       "      <th>2</th>\n",
       "      <td>7</td>\n",
       "      <td>20432</td>\n",
       "      <td>1</td>\n",
       "      <td>160</td>\n",
       "      <td>70.0</td>\n",
       "      <td>120</td>\n",
       "      <td>75</td>\n",
       "      <td>1</td>\n",
       "      <td>1</td>\n",
       "      <td>0</td>\n",
       "      <td>0</td>\n",
       "      <td>0</td>\n",
       "    </tr>\n",
       "    <tr>\n",
       "      <th>3</th>\n",
       "      <td>10</td>\n",
       "      <td>18133</td>\n",
       "      <td>2</td>\n",
       "      <td>185</td>\n",
       "      <td>94.0</td>\n",
       "      <td>130</td>\n",
       "      <td>90</td>\n",
       "      <td>1</td>\n",
       "      <td>1</td>\n",
       "      <td>0</td>\n",
       "      <td>0</td>\n",
       "      <td>1</td>\n",
       "    </tr>\n",
       "    <tr>\n",
       "      <th>4</th>\n",
       "      <td>11</td>\n",
       "      <td>16093</td>\n",
       "      <td>2</td>\n",
       "      <td>170</td>\n",
       "      <td>76.0</td>\n",
       "      <td>120</td>\n",
       "      <td>80</td>\n",
       "      <td>1</td>\n",
       "      <td>1</td>\n",
       "      <td>0</td>\n",
       "      <td>0</td>\n",
       "      <td>1</td>\n",
       "    </tr>\n",
       "  </tbody>\n",
       "</table>\n",
       "</div>"
      ],
      "text/plain": [
       "   id    age  gender  height  weight  ap_hi  ap_lo  cholesterol  gluc  smoke  \\\n",
       "0   5  18888       1     154    85.0    130     80            1     1      0   \n",
       "1   6  19042       2     170    69.0    130     90            1     1      0   \n",
       "2   7  20432       1     160    70.0    120     75            1     1      0   \n",
       "3  10  18133       2     185    94.0    130     90            1     1      0   \n",
       "4  11  16093       2     170    76.0    120     80            1     1      0   \n",
       "\n",
       "   alco  active  \n",
       "0     0       1  \n",
       "1     0       1  \n",
       "2     0       0  \n",
       "3     0       1  \n",
       "4     0       1  "
      ]
     },
     "metadata": {},
     "output_type": "display_data"
    }
   ],
   "source": [
    "# data\n",
    "train_data = pd.read_csv('train.csv')\n",
    "display(train_data.head())\n",
    "\n",
    "test_data = pd.read_csv('test.csv')\n",
    "display(test_data.head())"
   ]
  },
  {
   "cell_type": "markdown",
   "id": "b56c2e9a",
   "metadata": {},
   "source": [
    "### Data desription\n",
    "The **features** includes 12 columns with the characteristics of the patient (`age`, `gender`, `height`, `weight`, `smoke`, `alco`, `active`) and his results of medical analyzes (`ap_hi`, `ap_lo`, `cholesterol`, `gluc`). Column called `cardio` is the **target** and presents only in *train_data*."
   ]
  },
  {
   "cell_type": "code",
   "execution_count": 3,
   "id": "105c08bc",
   "metadata": {},
   "outputs": [
    {
     "name": "stdout",
     "output_type": "stream",
     "text": [
      "<class 'pandas.core.frame.DataFrame'>\n",
      "RangeIndex: 70000 entries, 0 to 69999\n",
      "Data columns (total 13 columns):\n",
      " #   Column       Non-Null Count  Dtype  \n",
      "---  ------       --------------  -----  \n",
      " 0   id           70000 non-null  int64  \n",
      " 1   age          70000 non-null  int64  \n",
      " 2   gender       70000 non-null  int64  \n",
      " 3   height       70000 non-null  int64  \n",
      " 4   weight       70000 non-null  float64\n",
      " 5   ap_hi        70000 non-null  int64  \n",
      " 6   ap_lo        70000 non-null  int64  \n",
      " 7   cholesterol  70000 non-null  int64  \n",
      " 8   gluc         70000 non-null  int64  \n",
      " 9   smoke        70000 non-null  int64  \n",
      " 10  alco         70000 non-null  int64  \n",
      " 11  active       70000 non-null  int64  \n",
      " 12  cardio       70000 non-null  int64  \n",
      "dtypes: float64(1), int64(12)\n",
      "memory usage: 6.9 MB\n"
     ]
    }
   ],
   "source": [
    "train_data.info()"
   ]
  },
  {
   "cell_type": "code",
   "execution_count": 4,
   "id": "78e906d9",
   "metadata": {},
   "outputs": [
    {
     "name": "stdout",
     "output_type": "stream",
     "text": [
      "<class 'pandas.core.frame.DataFrame'>\n",
      "RangeIndex: 30000 entries, 0 to 29999\n",
      "Data columns (total 12 columns):\n",
      " #   Column       Non-Null Count  Dtype  \n",
      "---  ------       --------------  -----  \n",
      " 0   id           30000 non-null  int64  \n",
      " 1   age          30000 non-null  int64  \n",
      " 2   gender       30000 non-null  int64  \n",
      " 3   height       30000 non-null  int64  \n",
      " 4   weight       30000 non-null  float64\n",
      " 5   ap_hi        30000 non-null  int64  \n",
      " 6   ap_lo        30000 non-null  int64  \n",
      " 7   cholesterol  30000 non-null  int64  \n",
      " 8   gluc         30000 non-null  int64  \n",
      " 9   smoke        30000 non-null  int64  \n",
      " 10  alco         30000 non-null  int64  \n",
      " 11  active       30000 non-null  int64  \n",
      "dtypes: float64(1), int64(11)\n",
      "memory usage: 2.7 MB\n"
     ]
    }
   ],
   "source": [
    "test_data.info()"
   ]
  },
  {
   "cell_type": "markdown",
   "id": "9c0fd82d",
   "metadata": {},
   "source": [
    "For machine learning, the `id` column is useless. "
   ]
  },
  {
   "cell_type": "code",
   "execution_count": 5,
   "id": "9d7660c8",
   "metadata": {},
   "outputs": [],
   "source": [
    "train_data.drop(columns=['id'], inplace=True)\n",
    "test_data.drop(columns=['id'], inplace=True)"
   ]
  },
  {
   "cell_type": "code",
   "execution_count": 6,
   "id": "577e7a1c",
   "metadata": {},
   "outputs": [
    {
     "data": {
      "image/png": "[encoded data removed]",
      "text/plain": [
       "<Figure size 720x720 with 12 Axes>"
      ]
     },
     "metadata": {
      "needs_background": "light"
     },
     "output_type": "display_data"
    }
   ],
   "source": [
    "# column distributions\n",
    "train_data.hist(figsize=(10, 10))\n",
    "plt.show()"
   ]
  },
  {
   "cell_type": "markdown",
   "id": "37470617",
   "metadata": {},
   "source": [
    "Because of all features is integer values, they need to be standartized to be able to use different algorithms. In addition:\n",
    "- In the `age` column, we need to check the correctness of the data entry (abnormally large values). \n",
    "- Values from the `gender`column should be changed to 0-1 (binary feature).\n",
    "- Rare and anomalously high values should be investigated in `height`, `weight`, `ap_hi`, `ap_lo` columns.\n",
    "\n",
    "Class imbalance is not observed in the target (`cardio`). "
   ]
  },
  {
   "cell_type": "markdown",
   "id": "9559c5f2",
   "metadata": {},
   "source": [
    "### Preprocessing"
   ]
  },
  {
   "cell_type": "code",
   "execution_count": 7,
   "id": "d0367849",
   "metadata": {},
   "outputs": [
    {
     "data": {
      "text/plain": [
       "10798"
      ]
     },
     "execution_count": 7,
     "metadata": {},
     "output_type": "execute_result"
    }
   ],
   "source": [
    "# 'age'\n",
    "train_data['age'].min() # 29 years"
   ]
  },
  {
   "cell_type": "markdown",
   "id": "ab7a463c",
   "metadata": {},
   "source": [
    "The age is most likely to be given in days."
   ]
  },
  {
   "cell_type": "code",
   "execution_count": 8,
   "id": "e3fd7379",
   "metadata": {},
   "outputs": [
    {
     "data": {
      "text/plain": [
       "0        50\n",
       "1        55\n",
       "2        51\n",
       "3        48\n",
       "4        47\n",
       "         ..\n",
       "69995    52\n",
       "69996    61\n",
       "69997    52\n",
       "69998    61\n",
       "69999    56\n",
       "Name: age, Length: 70000, dtype: int32"
      ]
     },
     "execution_count": 8,
     "metadata": {},
     "output_type": "execute_result"
    }
   ],
   "source": [
    "train_data['age'] = (train_data['age'] / 365).astype(int)\n",
    "test_data['age'] = (test_data['age'] / 365).astype(int)\n",
    "\n",
    "train_data['age']"
   ]
  },
  {
   "cell_type": "code",
   "execution_count": 9,
   "id": "81e56078",
   "metadata": {},
   "outputs": [
    {
     "data": {
      "text/plain": [
       "0        1\n",
       "1        0\n",
       "2        0\n",
       "3        1\n",
       "4        0\n",
       "        ..\n",
       "69995    1\n",
       "69996    0\n",
       "69997    1\n",
       "69998    0\n",
       "69999    0\n",
       "Name: gender, Length: 70000, dtype: int64"
      ]
     },
     "execution_count": 9,
     "metadata": {},
     "output_type": "execute_result"
    }
   ],
   "source": [
    "# 'gender'\n",
    "train_data['gender'] = train_data['gender'].replace(1, 0).replace(2, 1)\n",
    "test_data['gender'] = test_data['gender'].replace(1, 0).replace(2, 1)\n",
    "\n",
    "train_data['gender']"
   ]
  },
  {
   "cell_type": "code",
   "execution_count": 10,
   "id": "68f68bf6",
   "metadata": {},
   "outputs": [],
   "source": [
    "# # 'cholesterol'\n",
    "# train_data['cholesterol'] = train_data['cholesterol'].replace(1, -1).replace(2, 0).replace(3, 1)\n",
    "# test_data['cholesterol'] = test_data['cholesterol'].replace(1, -1).replace(2, 0).replace(3, 1)\n",
    "\n",
    "# # 'gluc'\n",
    "# train_data['gluc'] = train_data['gluc'].replace(1, -1).replace(2, 0).replace(3, 1)\n",
    "# test_data['gluc'] = test_data['gluc'].replace(1, -1).replace(2, 0).replace(3, 1)"
   ]
  },
  {
   "cell_type": "code",
   "execution_count": 11,
   "id": "ca0883f2",
   "metadata": {},
   "outputs": [
    {
     "data": {
      "image/png": "[encoded data removed]",
      "text/plain": [
       "<Figure size 432x288 with 1 Axes>"
      ]
     },
     "metadata": {
      "needs_background": "light"
     },
     "output_type": "display_data"
    }
   ],
   "source": [
    "# 'height'\n",
    "train_data.boxplot('height')\n",
    "plt.show()"
   ]
  },
  {
   "cell_type": "markdown",
   "id": "6b71ceb8",
   "metadata": {},
   "source": [
    "According to wikipedia, abnormally short height for an adult is 147 cm. Remove values above 200 and below 150 from the train dataset."
   ]
  },
  {
   "cell_type": "code",
   "execution_count": 12,
   "id": "cd38387b",
   "metadata": {},
   "outputs": [
    {
     "data": {
      "text/plain": [
       "'2%'"
      ]
     },
     "execution_count": 12,
     "metadata": {},
     "output_type": "execute_result"
    }
   ],
   "source": [
    "'{:.0%}'.format(train_data.loc[(train_data['height'] > 200)|(train_data['height'] < 150)].shape[0] / train_data.shape[0])"
   ]
  },
  {
   "cell_type": "code",
   "execution_count": 13,
   "id": "474a85a8",
   "metadata": {},
   "outputs": [],
   "source": [
    "train_data = train_data.loc[(train_data['height'] <= 200)&(train_data['height'] >= 150)]"
   ]
  },
  {
   "cell_type": "code",
   "execution_count": 14,
   "id": "769d6bfe",
   "metadata": {},
   "outputs": [
    {
     "data": {
      "image/png": "[encoded data removed]",
      "text/plain": [
       "<Figure size 432x288 with 1 Axes>"
      ]
     },
     "metadata": {
      "needs_background": "light"
     },
     "output_type": "display_data"
    }
   ],
   "source": [
    "# 'weight'\n",
    "train_data.boxplot('weight')\n",
    "plt.show()"
   ]
  },
  {
   "cell_type": "code",
   "execution_count": 15,
   "id": "7e03c161",
   "metadata": {},
   "outputs": [
    {
     "data": {
      "text/plain": [
       "'2%'"
      ]
     },
     "execution_count": 15,
     "metadata": {},
     "output_type": "execute_result"
    }
   ],
   "source": [
    "'{:.0%}'.format(train_data.loc[(train_data['weight'] < 45)|(train_data['weight'] > 110)].shape[0] / train_data.shape[0])"
   ]
  },
  {
   "cell_type": "markdown",
   "id": "424ffee3",
   "metadata": {},
   "source": [
    "Remove values above 110 and below 45 from the train dataset."
   ]
  },
  {
   "cell_type": "code",
   "execution_count": 16,
   "id": "32fa28ac",
   "metadata": {},
   "outputs": [],
   "source": [
    "train_data = train_data.loc[(train_data['weight'] >= 45)&(train_data['weight'] <= 110)]\n",
    "train_data['weight'] = train_data['weight'].astype(int)"
   ]
  },
  {
   "cell_type": "code",
   "execution_count": 17,
   "id": "1887f55d",
   "metadata": {},
   "outputs": [
    {
     "data": {
      "image/png": "[encoded data removed]",
      "text/plain": [
       "<Figure size 432x288 with 1 Axes>"
      ]
     },
     "metadata": {
      "needs_background": "light"
     },
     "output_type": "display_data"
    }
   ],
   "source": [
    "# 'ap_hi'\n",
    "train_data.boxplot('ap_hi')\n",
    "plt.show()"
   ]
  },
  {
   "cell_type": "markdown",
   "id": "2d4ec037",
   "metadata": {},
   "source": [
    "`ap_hi` contains values of systolic blood pressure, which should be between 24 and 240."
   ]
  },
  {
   "cell_type": "code",
   "execution_count": 18,
   "id": "8d60bc7d",
   "metadata": {},
   "outputs": [],
   "source": [
    "# correct ap_hi values \n",
    "def correct_aphi_values(value):\n",
    "    if value < 0:\n",
    "        return abs(value)\n",
    "    elif value < 3:\n",
    "        return value*100\n",
    "    elif value <= 24:\n",
    "        return value*10\n",
    "    elif value > 10000:\n",
    "        return value / 100\n",
    "    elif value > 300:\n",
    "        return value / 10\n",
    "    \n",
    "    return value"
   ]
  },
  {
   "cell_type": "code",
   "execution_count": 19,
   "id": "330e4966",
   "metadata": {},
   "outputs": [],
   "source": [
    "train_data['ap_hi'] = train_data['ap_hi'].apply(correct_aphi_values)\n",
    "test_data['ap_hi'] = test_data['ap_hi'].apply(correct_aphi_values)"
   ]
  },
  {
   "cell_type": "code",
   "execution_count": 20,
   "id": "67238f71",
   "metadata": {},
   "outputs": [
    {
     "data": {
      "image/png": "[encoded data removed]",
      "text/plain": [
       "<Figure size 432x288 with 1 Axes>"
      ]
     },
     "metadata": {
      "needs_background": "light"
     },
     "output_type": "display_data"
    }
   ],
   "source": [
    "# 'ap_lo'\n",
    "train_data.boxplot('ap_lo')\n",
    "plt.show()"
   ]
  },
  {
   "cell_type": "markdown",
   "id": "408e3d76",
   "metadata": {},
   "source": [
    "`ap_lo` is Diastolic blood pressure. Available range from 15 to 150. "
   ]
  },
  {
   "cell_type": "code",
   "execution_count": 21,
   "id": "2e9b870f",
   "metadata": {},
   "outputs": [],
   "source": [
    "# correct ap_lo values \n",
    "def correct_aplo_values(value):\n",
    "    if value < 0:\n",
    "        return abs(value)\n",
    "    elif value < 3:\n",
    "        return value*100\n",
    "    elif value <= 15:\n",
    "        return value*10\n",
    "    elif value > 4000:\n",
    "        return value / 100\n",
    "    elif value > 150:\n",
    "        return value / 10\n",
    "    \n",
    "    return value"
   ]
  },
  {
   "cell_type": "code",
   "execution_count": 22,
   "id": "04a07140",
   "metadata": {},
   "outputs": [],
   "source": [
    "train_data['ap_lo'] = train_data['ap_lo'].apply(correct_aplo_values)\n",
    "test_data['ap_lo'] = test_data['ap_lo'].apply(correct_aplo_values)"
   ]
  },
  {
   "cell_type": "markdown",
   "id": "b97e4904",
   "metadata": {},
   "source": [
    "Target and features:"
   ]
  },
  {
   "cell_type": "code",
   "execution_count": 23,
   "id": "39fd1b01",
   "metadata": {},
   "outputs": [],
   "source": [
    "# train_data\n",
    "features_train = train_data.drop(columns=['cardio'])\n",
    "target_train = train_data['cardio']\n",
    "\n",
    "# test_data\n",
    "features_test = test_data"
   ]
  },
  {
   "cell_type": "markdown",
   "id": "190b6650",
   "metadata": {},
   "source": [
    "Standardization of numeric (not binary) data:"
   ]
  },
  {
   "cell_type": "code",
   "execution_count": 24,
   "id": "4f272469",
   "metadata": {},
   "outputs": [
    {
     "data": {
      "text/html": [
       "<div>\n",
       "<style scoped>\n",
       "    .dataframe tbody tr th:only-of-type {\n",
       "        vertical-align: middle;\n",
       "    }\n",
       "\n",
       "    .dataframe tbody tr th {\n",
       "        vertical-align: top;\n",
       "    }\n",
       "\n",
       "    .dataframe thead th {\n",
       "        text-align: right;\n",
       "    }\n",
       "</style>\n",
       "<table border=\"1\" class=\"dataframe\">\n",
       "  <thead>\n",
       "    <tr style=\"text-align: right;\">\n",
       "      <th></th>\n",
       "      <th>age</th>\n",
       "      <th>gender</th>\n",
       "      <th>height</th>\n",
       "      <th>weight</th>\n",
       "      <th>ap_hi</th>\n",
       "      <th>ap_lo</th>\n",
       "      <th>cholesterol</th>\n",
       "      <th>gluc</th>\n",
       "      <th>smoke</th>\n",
       "      <th>alco</th>\n",
       "      <th>active</th>\n",
       "    </tr>\n",
       "  </thead>\n",
       "  <tbody>\n",
       "    <tr>\n",
       "      <th>0</th>\n",
       "      <td>-0.414510</td>\n",
       "      <td>1</td>\n",
       "      <td>0.436143</td>\n",
       "      <td>-0.922015</td>\n",
       "      <td>-0.993270</td>\n",
       "      <td>-0.147880</td>\n",
       "      <td>-0.533158</td>\n",
       "      <td>-0.391198</td>\n",
       "      <td>0</td>\n",
       "      <td>0</td>\n",
       "      <td>1</td>\n",
       "    </tr>\n",
       "    <tr>\n",
       "      <th>1</th>\n",
       "      <td>0.324868</td>\n",
       "      <td>0</td>\n",
       "      <td>-1.186521</td>\n",
       "      <td>0.901805</td>\n",
       "      <td>0.785130</td>\n",
       "      <td>0.856734</td>\n",
       "      <td>2.427486</td>\n",
       "      <td>-0.391198</td>\n",
       "      <td>0</td>\n",
       "      <td>0</td>\n",
       "      <td>1</td>\n",
       "    </tr>\n",
       "    <tr>\n",
       "      <th>2</th>\n",
       "      <td>-0.266635</td>\n",
       "      <td>0</td>\n",
       "      <td>0.030477</td>\n",
       "      <td>-0.763422</td>\n",
       "      <td>0.192330</td>\n",
       "      <td>-1.152494</td>\n",
       "      <td>2.427486</td>\n",
       "      <td>-0.391198</td>\n",
       "      <td>0</td>\n",
       "      <td>0</td>\n",
       "      <td>0</td>\n",
       "    </tr>\n",
       "    <tr>\n",
       "      <th>3</th>\n",
       "      <td>-0.710262</td>\n",
       "      <td>1</td>\n",
       "      <td>0.571365</td>\n",
       "      <td>0.663915</td>\n",
       "      <td>1.377931</td>\n",
       "      <td>1.861348</td>\n",
       "      <td>-0.533158</td>\n",
       "      <td>-0.391198</td>\n",
       "      <td>0</td>\n",
       "      <td>0</td>\n",
       "      <td>1</td>\n",
       "    </tr>\n",
       "    <tr>\n",
       "      <th>4</th>\n",
       "      <td>-0.858138</td>\n",
       "      <td>0</td>\n",
       "      <td>-1.186521</td>\n",
       "      <td>-1.397795</td>\n",
       "      <td>-1.586070</td>\n",
       "      <td>-2.157108</td>\n",
       "      <td>-0.533158</td>\n",
       "      <td>-0.391198</td>\n",
       "      <td>0</td>\n",
       "      <td>0</td>\n",
       "      <td>0</td>\n",
       "    </tr>\n",
       "  </tbody>\n",
       "</table>\n",
       "</div>"
      ],
      "text/plain": [
       "        age  gender    height    weight     ap_hi     ap_lo  cholesterol  \\\n",
       "0 -0.414510       1  0.436143 -0.922015 -0.993270 -0.147880    -0.533158   \n",
       "1  0.324868       0 -1.186521  0.901805  0.785130  0.856734     2.427486   \n",
       "2 -0.266635       0  0.030477 -0.763422  0.192330 -1.152494     2.427486   \n",
       "3 -0.710262       1  0.571365  0.663915  1.377931  1.861348    -0.533158   \n",
       "4 -0.858138       0 -1.186521 -1.397795 -1.586070 -2.157108    -0.533158   \n",
       "\n",
       "       gluc  smoke  alco  active  \n",
       "0 -0.391198      0     0       1  \n",
       "1 -0.391198      0     0       1  \n",
       "2 -0.391198      0     0       0  \n",
       "3 -0.391198      0     0       1  \n",
       "4 -0.391198      0     0       0  "
      ]
     },
     "execution_count": 24,
     "metadata": {},
     "output_type": "execute_result"
    }
   ],
   "source": [
    "numeric = ['age', 'height', 'weight', 'ap_hi', 'ap_lo', 'cholesterol', 'gluc']\n",
    "\n",
    "scaler = StandardScaler()\n",
    "scaler.fit(features_train[numeric])\n",
    "\n",
    "features_train[numeric] = scaler.transform(features_train[numeric])\n",
    "features_test[numeric] = scaler.transform(features_test[numeric])\n",
    "\n",
    "features_train.head()"
   ]
  },
  {
   "cell_type": "markdown",
   "id": "b111f46d",
   "metadata": {},
   "source": [
    "### Model selection\n",
    "For each selected ML algorithm (*Random Forest*, ...), let's find the optimal parameters. Cross validation will be used to obtain more accurate averaged results."
   ]
  },
  {
   "cell_type": "code",
   "execution_count": 28,
   "id": "471f33b1",
   "metadata": {},
   "outputs": [
    {
     "name": "stdout",
     "output_type": "stream",
     "text": [
      "CPU times: total: 24min 31s\n",
      "Wall time: 32min 35s\n"
     ]
    },
    {
     "data": {
      "text/plain": [
       "GridSearchCV(cv=5, estimator=RandomForestClassifier(),\n",
       "             param_grid={'criterion': ['entropy'], 'max_depth': [4, 5, 6, 7, 8],\n",
       "                         'max_features': ['sqrt', 'log2'],\n",
       "                         'n_estimators': [100, 200, 300, 400, 500],\n",
       "                         'random_state': [123]},\n",
       "             scoring='roc_auc')"
      ]
     },
     "execution_count": 28,
     "metadata": {},
     "output_type": "execute_result"
    }
   ],
   "source": [
    "%%time\n",
    "\n",
    "params = { \n",
    "    'n_estimators': [i for i in range(100, 600, 100)],\n",
    "    'max_features': ['sqrt', 'log2'],\n",
    "    'max_depth' : [i for i in range(4, 9)],\n",
    "    'criterion' :['entropy'],\n",
    "    'random_state' : [123]\n",
    "}\n",
    "\n",
    "grid = GridSearchCV(estimator=RandomForestClassifier(), param_grid=params, scoring='roc_auc', cv= 5)\n",
    "grid.fit(features_train, target_train)"
   ]
  },
  {
   "cell_type": "code",
   "execution_count": 29,
   "id": "d5f4cd36",
   "metadata": {},
   "outputs": [
    {
     "data": {
      "text/plain": [
       "{'criterion': 'entropy',\n",
       " 'max_depth': 8,\n",
       " 'max_features': 'sqrt',\n",
       " 'n_estimators': 400,\n",
       " 'random_state': 123}"
      ]
     },
     "execution_count": 29,
     "metadata": {},
     "output_type": "execute_result"
    }
   ],
   "source": [
    "grid.best_params_"
   ]
  },
  {
   "cell_type": "code",
   "execution_count": 30,
   "id": "e0f7039b",
   "metadata": {},
   "outputs": [
    {
     "data": {
      "text/plain": [
       "0.8011010098644874"
      ]
     },
     "execution_count": 30,
     "metadata": {},
     "output_type": "execute_result"
    }
   ],
   "source": [
    "grid.best_score_"
   ]
  },
  {
   "cell_type": "code",
   "execution_count": 33,
   "id": "1e656788",
   "metadata": {},
   "outputs": [
    {
     "data": {
      "text/html": [
       "<div>\n",
       "<style scoped>\n",
       "    .dataframe tbody tr th:only-of-type {\n",
       "        vertical-align: middle;\n",
       "    }\n",
       "\n",
       "    .dataframe tbody tr th {\n",
       "        vertical-align: top;\n",
       "    }\n",
       "\n",
       "    .dataframe thead th {\n",
       "        text-align: right;\n",
       "    }\n",
       "</style>\n",
       "<table border=\"1\" class=\"dataframe\">\n",
       "  <thead>\n",
       "    <tr style=\"text-align: right;\">\n",
       "      <th></th>\n",
       "      <th>age</th>\n",
       "      <th>gender</th>\n",
       "      <th>height</th>\n",
       "      <th>weight</th>\n",
       "      <th>ap_hi</th>\n",
       "      <th>ap_lo</th>\n",
       "      <th>cholesterol</th>\n",
       "      <th>gluc</th>\n",
       "      <th>smoke</th>\n",
       "      <th>alco</th>\n",
       "      <th>active</th>\n",
       "    </tr>\n",
       "  </thead>\n",
       "  <tbody>\n",
       "    <tr>\n",
       "      <th>0</th>\n",
       "      <td>-0.266635</td>\n",
       "      <td>0</td>\n",
       "      <td>-1.456965</td>\n",
       "      <td>0.901805</td>\n",
       "      <td>0.192330</td>\n",
       "      <td>-0.147880</td>\n",
       "      <td>-0.533158</td>\n",
       "      <td>-0.391198</td>\n",
       "      <td>0</td>\n",
       "      <td>0</td>\n",
       "      <td>1</td>\n",
       "    </tr>\n",
       "    <tr>\n",
       "      <th>1</th>\n",
       "      <td>-0.118759</td>\n",
       "      <td>1</td>\n",
       "      <td>0.706587</td>\n",
       "      <td>-0.366940</td>\n",
       "      <td>0.192330</td>\n",
       "      <td>0.856734</td>\n",
       "      <td>-0.533158</td>\n",
       "      <td>-0.391198</td>\n",
       "      <td>0</td>\n",
       "      <td>0</td>\n",
       "      <td>1</td>\n",
       "    </tr>\n",
       "    <tr>\n",
       "      <th>2</th>\n",
       "      <td>0.324868</td>\n",
       "      <td>0</td>\n",
       "      <td>-0.645633</td>\n",
       "      <td>-0.287643</td>\n",
       "      <td>-0.400470</td>\n",
       "      <td>-0.650187</td>\n",
       "      <td>-0.533158</td>\n",
       "      <td>-0.391198</td>\n",
       "      <td>0</td>\n",
       "      <td>0</td>\n",
       "      <td>0</td>\n",
       "    </tr>\n",
       "    <tr>\n",
       "      <th>3</th>\n",
       "      <td>-0.562386</td>\n",
       "      <td>1</td>\n",
       "      <td>2.734917</td>\n",
       "      <td>1.615474</td>\n",
       "      <td>0.192330</td>\n",
       "      <td>0.856734</td>\n",
       "      <td>-0.533158</td>\n",
       "      <td>-0.391198</td>\n",
       "      <td>0</td>\n",
       "      <td>0</td>\n",
       "      <td>1</td>\n",
       "    </tr>\n",
       "    <tr>\n",
       "      <th>4</th>\n",
       "      <td>-1.301765</td>\n",
       "      <td>1</td>\n",
       "      <td>0.706587</td>\n",
       "      <td>0.188136</td>\n",
       "      <td>-0.400470</td>\n",
       "      <td>-0.147880</td>\n",
       "      <td>-0.533158</td>\n",
       "      <td>-0.391198</td>\n",
       "      <td>0</td>\n",
       "      <td>0</td>\n",
       "      <td>1</td>\n",
       "    </tr>\n",
       "    <tr>\n",
       "      <th>...</th>\n",
       "      <td>...</td>\n",
       "      <td>...</td>\n",
       "      <td>...</td>\n",
       "      <td>...</td>\n",
       "      <td>...</td>\n",
       "      <td>...</td>\n",
       "      <td>...</td>\n",
       "      <td>...</td>\n",
       "      <td>...</td>\n",
       "      <td>...</td>\n",
       "      <td>...</td>\n",
       "    </tr>\n",
       "    <tr>\n",
       "      <th>29995</th>\n",
       "      <td>0.916371</td>\n",
       "      <td>1</td>\n",
       "      <td>0.706587</td>\n",
       "      <td>2.329143</td>\n",
       "      <td>1.377931</td>\n",
       "      <td>0.856734</td>\n",
       "      <td>-0.533158</td>\n",
       "      <td>-0.391198</td>\n",
       "      <td>0</td>\n",
       "      <td>1</td>\n",
       "      <td>0</td>\n",
       "    </tr>\n",
       "    <tr>\n",
       "      <th>29996</th>\n",
       "      <td>-0.414510</td>\n",
       "      <td>0</td>\n",
       "      <td>0.977031</td>\n",
       "      <td>0.346729</td>\n",
       "      <td>-0.993270</td>\n",
       "      <td>-1.152494</td>\n",
       "      <td>-0.533158</td>\n",
       "      <td>-0.391198</td>\n",
       "      <td>0</td>\n",
       "      <td>0</td>\n",
       "      <td>1</td>\n",
       "    </tr>\n",
       "    <tr>\n",
       "      <th>29997</th>\n",
       "      <td>0.768495</td>\n",
       "      <td>1</td>\n",
       "      <td>0.571365</td>\n",
       "      <td>-1.001312</td>\n",
       "      <td>-0.400470</td>\n",
       "      <td>-0.147880</td>\n",
       "      <td>-0.533158</td>\n",
       "      <td>-0.391198</td>\n",
       "      <td>0</td>\n",
       "      <td>0</td>\n",
       "      <td>0</td>\n",
       "    </tr>\n",
       "    <tr>\n",
       "      <th>29998</th>\n",
       "      <td>-2.041143</td>\n",
       "      <td>1</td>\n",
       "      <td>1.382697</td>\n",
       "      <td>0.505322</td>\n",
       "      <td>-0.400470</td>\n",
       "      <td>-0.147880</td>\n",
       "      <td>0.947164</td>\n",
       "      <td>-0.391198</td>\n",
       "      <td>0</td>\n",
       "      <td>0</td>\n",
       "      <td>0</td>\n",
       "    </tr>\n",
       "    <tr>\n",
       "      <th>29999</th>\n",
       "      <td>-1.449640</td>\n",
       "      <td>1</td>\n",
       "      <td>1.517919</td>\n",
       "      <td>0.108840</td>\n",
       "      <td>-0.400470</td>\n",
       "      <td>-0.147880</td>\n",
       "      <td>2.427486</td>\n",
       "      <td>-0.391198</td>\n",
       "      <td>0</td>\n",
       "      <td>0</td>\n",
       "      <td>1</td>\n",
       "    </tr>\n",
       "  </tbody>\n",
       "</table>\n",
       "<p>30000 rows × 11 columns</p>\n",
       "</div>"
      ],
      "text/plain": [
       "            age  gender    height    weight     ap_hi     ap_lo  cholesterol  \\\n",
       "0     -0.266635       0 -1.456965  0.901805  0.192330 -0.147880    -0.533158   \n",
       "1     -0.118759       1  0.706587 -0.366940  0.192330  0.856734    -0.533158   \n",
       "2      0.324868       0 -0.645633 -0.287643 -0.400470 -0.650187    -0.533158   \n",
       "3     -0.562386       1  2.734917  1.615474  0.192330  0.856734    -0.533158   \n",
       "4     -1.301765       1  0.706587  0.188136 -0.400470 -0.147880    -0.533158   \n",
       "...         ...     ...       ...       ...       ...       ...          ...   \n",
       "29995  0.916371       1  0.706587  2.329143  1.377931  0.856734    -0.533158   \n",
       "29996 -0.414510       0  0.977031  0.346729 -0.993270 -1.152494    -0.533158   \n",
       "29997  0.768495       1  0.571365 -1.001312 -0.400470 -0.147880    -0.533158   \n",
       "29998 -2.041143       1  1.382697  0.505322 -0.400470 -0.147880     0.947164   \n",
       "29999 -1.449640       1  1.517919  0.108840 -0.400470 -0.147880     2.427486   \n",
       "\n",
       "           gluc  smoke  alco  active  \n",
       "0     -0.391198      0     0       1  \n",
       "1     -0.391198      0     0       1  \n",
       "2     -0.391198      0     0       0  \n",
       "3     -0.391198      0     0       1  \n",
       "4     -0.391198      0     0       1  \n",
       "...         ...    ...   ...     ...  \n",
       "29995 -0.391198      0     1       0  \n",
       "29996 -0.391198      0     0       1  \n",
       "29997 -0.391198      0     0       0  \n",
       "29998 -0.391198      0     0       0  \n",
       "29999 -0.391198      0     0       1  \n",
       "\n",
       "[30000 rows x 11 columns]"
      ]
     },
     "execution_count": 33,
     "metadata": {},
     "output_type": "execute_result"
    }
   ],
   "source": [
    "features_test"
   ]
  },
  {
   "cell_type": "markdown",
   "id": "d9b1e228",
   "metadata": {},
   "source": [
    "### Prediction test data"
   ]
  },
  {
   "cell_type": "code",
   "execution_count": 36,
   "id": "7ebeba5c",
   "metadata": {},
   "outputs": [
    {
     "data": {
      "text/plain": [
       "0            5\n",
       "1            6\n",
       "2            7\n",
       "3           10\n",
       "4           11\n",
       "         ...  \n",
       "29995    99984\n",
       "29996    99987\n",
       "29997    99989\n",
       "29998    99994\n",
       "29999    99997\n",
       "Name: id, Length: 30000, dtype: int64"
      ]
     },
     "execution_count": 36,
     "metadata": {},
     "output_type": "execute_result"
    }
   ],
   "source": [
    "test_data_new = pd.read_csv('test.csv')\n",
    "test_id = test_data_new['id']\n",
    "test_id"
   ]
  },
  {
   "cell_type": "code",
   "execution_count": 38,
   "id": "099a3544",
   "metadata": {},
   "outputs": [
    {
     "data": {
      "text/html": [
       "<div>\n",
       "<style scoped>\n",
       "    .dataframe tbody tr th:only-of-type {\n",
       "        vertical-align: middle;\n",
       "    }\n",
       "\n",
       "    .dataframe tbody tr th {\n",
       "        vertical-align: top;\n",
       "    }\n",
       "\n",
       "    .dataframe thead th {\n",
       "        text-align: right;\n",
       "    }\n",
       "</style>\n",
       "<table border=\"1\" class=\"dataframe\">\n",
       "  <thead>\n",
       "    <tr style=\"text-align: right;\">\n",
       "      <th></th>\n",
       "      <th>id</th>\n",
       "      <th>cardio</th>\n",
       "    </tr>\n",
       "  </thead>\n",
       "  <tbody>\n",
       "    <tr>\n",
       "      <th>0</th>\n",
       "      <td>5</td>\n",
       "      <td>0.494455</td>\n",
       "    </tr>\n",
       "    <tr>\n",
       "      <th>1</th>\n",
       "      <td>6</td>\n",
       "      <td>0.574675</td>\n",
       "    </tr>\n",
       "    <tr>\n",
       "      <th>2</th>\n",
       "      <td>7</td>\n",
       "      <td>0.407054</td>\n",
       "    </tr>\n",
       "    <tr>\n",
       "      <th>3</th>\n",
       "      <td>10</td>\n",
       "      <td>0.525740</td>\n",
       "    </tr>\n",
       "    <tr>\n",
       "      <th>4</th>\n",
       "      <td>11</td>\n",
       "      <td>0.240891</td>\n",
       "    </tr>\n",
       "    <tr>\n",
       "      <th>...</th>\n",
       "      <td>...</td>\n",
       "      <td>...</td>\n",
       "    </tr>\n",
       "    <tr>\n",
       "      <th>29995</th>\n",
       "      <td>99984</td>\n",
       "      <td>0.851460</td>\n",
       "    </tr>\n",
       "    <tr>\n",
       "      <th>29996</th>\n",
       "      <td>99987</td>\n",
       "      <td>0.221819</td>\n",
       "    </tr>\n",
       "    <tr>\n",
       "      <th>29997</th>\n",
       "      <td>99989</td>\n",
       "      <td>0.438653</td>\n",
       "    </tr>\n",
       "    <tr>\n",
       "      <th>29998</th>\n",
       "      <td>99994</td>\n",
       "      <td>0.349425</td>\n",
       "    </tr>\n",
       "    <tr>\n",
       "      <th>29999</th>\n",
       "      <td>99997</td>\n",
       "      <td>0.623003</td>\n",
       "    </tr>\n",
       "  </tbody>\n",
       "</table>\n",
       "<p>30000 rows × 2 columns</p>\n",
       "</div>"
      ],
      "text/plain": [
       "          id    cardio\n",
       "0          5  0.494455\n",
       "1          6  0.574675\n",
       "2          7  0.407054\n",
       "3         10  0.525740\n",
       "4         11  0.240891\n",
       "...      ...       ...\n",
       "29995  99984  0.851460\n",
       "29996  99987  0.221819\n",
       "29997  99989  0.438653\n",
       "29998  99994  0.349425\n",
       "29999  99997  0.623003\n",
       "\n",
       "[30000 rows x 2 columns]"
      ]
     },
     "execution_count": 38,
     "metadata": {},
     "output_type": "execute_result"
    }
   ],
   "source": [
    "model = RandomForestClassifier(criterion='entropy', max_depth=8, max_features='sqrt', n_estimators=400, random_state=123)\n",
    "model.fit(features_train, target_train)\n",
    "predictions = model.predict_proba(features_test)[:,1]\n",
    "\n",
    "prediction_df = pd.DataFrame(test_id, columns=['id'])\n",
    "prediction_df['cardio'] = predictions\n",
    "\n",
    "prediction_df"
   ]
  },
  {
   "cell_type": "code",
   "execution_count": 42,
   "id": "f6c2fa57",
   "metadata": {},
   "outputs": [],
   "source": [
    "# load results to file for kaggle\n",
    "prediction_df.to_csv('predicted_data.csv', index=False)"
   ]
  }
 ],
 "metadata": {
  "kernelspec": {
   "display_name": "Python 3 (ipykernel)",
   "language": "python",
   "name": "python3"
  },
  "language_info": {
   "codemirror_mode": {
    "name": "ipython",
    "version": 3
   },
   "file_extension": ".py",
   "mimetype": "text/x-python",
   "name": "python",
   "nbconvert_exporter": "python",
   "pygments_lexer": "ipython3",
   "version": "3.9.12"
  },
  "toc": {
   "base_numbering": 1,
   "nav_menu": {},
   "number_sections": true,
   "sideBar": true,
   "skip_h1_title": true,
   "title_cell": "Table of Contents",
   "title_sidebar": "Contents",
   "toc_cell": true,
   "toc_position": {},
   "toc_section_display": true,
   "toc_window_display": false
  }
 },
 "nbformat": 4,
 "nbformat_minor": 5
}
